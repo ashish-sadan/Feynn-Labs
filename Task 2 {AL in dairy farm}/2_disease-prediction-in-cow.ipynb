{
 "cells": [
  {
   "cell_type": "code",
   "execution_count": 1,
   "id": "2c521ee5",
   "metadata": {
    "execution": {
     "iopub.execute_input": "2022-10-05T11:09:26.398871Z",
     "iopub.status.busy": "2022-10-05T11:09:26.397990Z",
     "iopub.status.idle": "2022-10-05T11:09:27.282878Z",
     "shell.execute_reply": "2022-10-05T11:09:27.281717Z"
    },
    "id": "pOtKYlpTRZmf",
    "papermill": {
     "duration": 0.895158,
     "end_time": "2022-10-05T11:09:27.285826",
     "exception": false,
     "start_time": "2022-10-05T11:09:26.390668",
     "status": "completed"
    },
    "tags": []
   },
   "outputs": [],
   "source": [
    "import numpy as np\n",
    "import pandas as pd \n",
    "\n",
    "import matplotlib.pyplot as plt\n",
    "import seaborn as sns\n",
    "\n",
    "import os"
   ]
  },
  {
   "cell_type": "code",
   "execution_count": 2,
   "id": "35078872",
   "metadata": {
    "execution": {
     "iopub.execute_input": "2022-10-05T11:09:27.295243Z",
     "iopub.status.busy": "2022-10-05T11:09:27.294943Z",
     "iopub.status.idle": "2022-10-05T11:09:32.164773Z",
     "shell.execute_reply": "2022-10-05T11:09:32.163799Z"
    },
    "id": "UmP16PpEYblv",
    "papermill": {
     "duration": 4.877166,
     "end_time": "2022-10-05T11:09:32.167130",
     "exception": false,
     "start_time": "2022-10-05T11:09:27.289964",
     "status": "completed"
    },
    "tags": []
   },
   "outputs": [],
   "source": [
    "import keras\n",
    "from keras.models import Sequential\n",
    "from keras.layers import Conv2D,Flatten,Dense,MaxPooling2D\n",
    "from keras.layers import Dropout\n",
    "from sklearn.metrics import accuracy_score"
   ]
  },
  {
   "cell_type": "code",
   "execution_count": 3,
   "id": "ce048e78",
   "metadata": {
    "execution": {
     "iopub.execute_input": "2022-10-05T11:09:32.178042Z",
     "iopub.status.busy": "2022-10-05T11:09:32.176771Z",
     "iopub.status.idle": "2022-10-05T11:09:32.329702Z",
     "shell.execute_reply": "2022-10-05T11:09:32.328880Z"
    },
    "id": "3hIslEqUYlVf",
    "papermill": {
     "duration": 0.160794,
     "end_time": "2022-10-05T11:09:32.332217",
     "exception": false,
     "start_time": "2022-10-05T11:09:32.171423",
     "status": "completed"
    },
    "tags": []
   },
   "outputs": [],
   "source": [
    "import ipywidgets as widgets\n",
    "import io\n",
    "from PIL import Image\n",
    "import tqdm\n",
    "from sklearn.model_selection import train_test_split\n",
    "import cv2\n",
    "from sklearn.utils import shuffle\n",
    "import tensorflow as tf"
   ]
  },
  {
   "cell_type": "code",
   "execution_count": 4,
   "id": "5f1f4560",
   "metadata": {
    "execution": {
     "iopub.execute_input": "2022-10-05T11:09:32.341603Z",
     "iopub.status.busy": "2022-10-05T11:09:32.341236Z",
     "iopub.status.idle": "2022-10-05T11:09:35.822472Z",
     "shell.execute_reply": "2022-10-05T11:09:35.821398Z"
    },
    "id": "p9IsXz8VYwoN",
    "papermill": {
     "duration": 3.489216,
     "end_time": "2022-10-05T11:09:35.825378",
     "exception": false,
     "start_time": "2022-10-05T11:09:32.336162",
     "status": "completed"
    },
    "tags": []
   },
   "outputs": [],
   "source": [
    "X_train = []\n",
    "y_train = []\n",
    "image_size = 150\n",
    "\n",
    "folderPath ='../input/cow-lumpy-disease-dataset/healthycows'\n",
    "for j in os.listdir(folderPath):\n",
    "    img = cv2.imread(os.path.join(folderPath,j))\n",
    "    img = cv2.resize(img,(image_size, image_size))\n",
    "    X_train.append(img)\n",
    "    y_train.append(0)\n",
    "folderPath ='../input/cow-lumpy-disease-dataset/lumpycows'\n",
    "for j in os.listdir(folderPath):\n",
    "    img = cv2.imread(os.path.join(folderPath,j))\n",
    "    img = cv2.resize(img,(image_size, image_size))\n",
    "    X_train.append(img)\n",
    "    y_train.append(1)"
   ]
  },
  {
   "cell_type": "code",
   "execution_count": 5,
   "id": "1289394c",
   "metadata": {
    "execution": {
     "iopub.execute_input": "2022-10-05T11:09:35.836609Z",
     "iopub.status.busy": "2022-10-05T11:09:35.835018Z",
     "iopub.status.idle": "2022-10-05T11:09:35.887589Z",
     "shell.execute_reply": "2022-10-05T11:09:35.886623Z"
    },
    "id": "VZ__y7YGaSQn",
    "outputId": "67906da0-bc8d-4464-f591-576491961ae8",
    "papermill": {
     "duration": 0.060205,
     "end_time": "2022-10-05T11:09:35.890115",
     "exception": false,
     "start_time": "2022-10-05T11:09:35.829910",
     "status": "completed"
    },
    "tags": []
   },
   "outputs": [
    {
     "data": {
      "text/plain": [
       "(936, 150, 150, 3)"
      ]
     },
     "execution_count": 5,
     "metadata": {},
     "output_type": "execute_result"
    }
   ],
   "source": [
    "X_train = np.array(X_train)\n",
    "y_train = np.array(y_train)\n",
    "\n",
    "X_train,y_train=shuffle(X_train,y_train,random_state=101)\n",
    "X_train.shape"
   ]
  },
  {
   "cell_type": "code",
   "execution_count": 6,
   "id": "abbd57b1",
   "metadata": {
    "execution": {
     "iopub.execute_input": "2022-10-05T11:09:35.900522Z",
     "iopub.status.busy": "2022-10-05T11:09:35.899136Z",
     "iopub.status.idle": "2022-10-05T11:09:35.923613Z",
     "shell.execute_reply": "2022-10-05T11:09:35.922680Z"
    },
    "id": "RE2vQVLlafEB",
    "papermill": {
     "duration": 0.031773,
     "end_time": "2022-10-05T11:09:35.925943",
     "exception": false,
     "start_time": "2022-10-05T11:09:35.894170",
     "status": "completed"
    },
    "tags": []
   },
   "outputs": [],
   "source": [
    "X_train,X_test,y_train,y_test=train_test_split(X_train,y_train,test_size=.1,random_state=101)"
   ]
  },
  {
   "cell_type": "code",
   "execution_count": 7,
   "id": "9241487e",
   "metadata": {
    "execution": {
     "iopub.execute_input": "2022-10-05T11:09:35.935555Z",
     "iopub.status.busy": "2022-10-05T11:09:35.935229Z",
     "iopub.status.idle": "2022-10-05T11:09:35.941599Z",
     "shell.execute_reply": "2022-10-05T11:09:35.940705Z"
    },
    "id": "-I9cW1waaxAf",
    "outputId": "13555353-92f0-4d7d-ce32-68e70d6f042c",
    "papermill": {
     "duration": 0.013677,
     "end_time": "2022-10-05T11:09:35.943893",
     "exception": false,
     "start_time": "2022-10-05T11:09:35.930216",
     "status": "completed"
    },
    "tags": []
   },
   "outputs": [
    {
     "data": {
      "text/plain": [
       "(842,)"
      ]
     },
     "execution_count": 7,
     "metadata": {},
     "output_type": "execute_result"
    }
   ],
   "source": [
    "y_train.shape"
   ]
  },
  {
   "cell_type": "code",
   "execution_count": 8,
   "id": "22ad56da",
   "metadata": {
    "execution": {
     "iopub.execute_input": "2022-10-05T11:09:35.953743Z",
     "iopub.status.busy": "2022-10-05T11:09:35.953440Z",
     "iopub.status.idle": "2022-10-05T11:09:38.872435Z",
     "shell.execute_reply": "2022-10-05T11:09:38.869560Z"
    },
    "id": "O6MJMgXXa3Y1",
    "papermill": {
     "duration": 2.926343,
     "end_time": "2022-10-05T11:09:38.874863",
     "exception": false,
     "start_time": "2022-10-05T11:09:35.948520",
     "status": "completed"
    },
    "tags": []
   },
   "outputs": [
    {
     "name": "stderr",
     "output_type": "stream",
     "text": [
      "2022-10-05 11:09:36.043209: I tensorflow/stream_executor/cuda/cuda_gpu_executor.cc:937] successful NUMA node read from SysFS had negative value (-1), but there must be at least one NUMA node, so returning NUMA node zero\n",
      "2022-10-05 11:09:36.136149: I tensorflow/stream_executor/cuda/cuda_gpu_executor.cc:937] successful NUMA node read from SysFS had negative value (-1), but there must be at least one NUMA node, so returning NUMA node zero\n",
      "2022-10-05 11:09:36.137009: I tensorflow/stream_executor/cuda/cuda_gpu_executor.cc:937] successful NUMA node read from SysFS had negative value (-1), but there must be at least one NUMA node, so returning NUMA node zero\n",
      "2022-10-05 11:09:36.138782: I tensorflow/core/platform/cpu_feature_guard.cc:142] This TensorFlow binary is optimized with oneAPI Deep Neural Network Library (oneDNN) to use the following CPU instructions in performance-critical operations:  AVX2 AVX512F FMA\n",
      "To enable them in other operations, rebuild TensorFlow with the appropriate compiler flags.\n",
      "2022-10-05 11:09:36.145702: I tensorflow/stream_executor/cuda/cuda_gpu_executor.cc:937] successful NUMA node read from SysFS had negative value (-1), but there must be at least one NUMA node, so returning NUMA node zero\n",
      "2022-10-05 11:09:36.146415: I tensorflow/stream_executor/cuda/cuda_gpu_executor.cc:937] successful NUMA node read from SysFS had negative value (-1), but there must be at least one NUMA node, so returning NUMA node zero\n",
      "2022-10-05 11:09:36.147114: I tensorflow/stream_executor/cuda/cuda_gpu_executor.cc:937] successful NUMA node read from SysFS had negative value (-1), but there must be at least one NUMA node, so returning NUMA node zero\n",
      "2022-10-05 11:09:38.348811: I tensorflow/stream_executor/cuda/cuda_gpu_executor.cc:937] successful NUMA node read from SysFS had negative value (-1), but there must be at least one NUMA node, so returning NUMA node zero\n",
      "2022-10-05 11:09:38.349732: I tensorflow/stream_executor/cuda/cuda_gpu_executor.cc:937] successful NUMA node read from SysFS had negative value (-1), but there must be at least one NUMA node, so returning NUMA node zero\n",
      "2022-10-05 11:09:38.350402: I tensorflow/stream_executor/cuda/cuda_gpu_executor.cc:937] successful NUMA node read from SysFS had negative value (-1), but there must be at least one NUMA node, so returning NUMA node zero\n",
      "2022-10-05 11:09:38.351007: I tensorflow/core/common_runtime/gpu/gpu_device.cc:1510] Created device /job:localhost/replica:0/task:0/device:GPU:0 with 15401 MB memory:  -> device: 0, name: Tesla P100-PCIE-16GB, pci bus id: 0000:00:04.0, compute capability: 6.0\n"
     ]
    }
   ],
   "source": [
    "model = Sequential()\n",
    "model.add(Conv2D(32, (3, 3), activation='relu', input_shape=(150,150, 3)))\n",
    "model.add(Conv2D(64, (3, 3), activation='relu'))\n",
    "model.add(MaxPooling2D((2, 2)))\n",
    "model.add(Dropout(0.3))\n",
    "model.add(Conv2D(64, (3, 3), activation='relu'))\n",
    "model.add(Conv2D(64, (3, 3), activation='relu'))\n",
    "model.add(Dropout(0.3))\n",
    "model.add(MaxPooling2D((2, 2)))\n",
    "model.add(Dropout(0.3))\n",
    "model.add(Conv2D(128, (3, 3), activation='relu'))\n",
    "model.add(Conv2D(128, (3, 3), activation='relu'))\n",
    "model.add(Conv2D(128, (3, 3), activation='relu'))\n",
    "model.add(MaxPooling2D((2, 2)))\n",
    "model.add(Dropout(0.3))\n",
    "model.add(Conv2D(128, (3, 3), activation='relu'))\n",
    "model.add(Conv2D(256, (3, 3), activation='relu'))\n",
    "model.add(MaxPooling2D((2, 2)))\n",
    "model.add(Dropout(0.3))\n",
    "model.add(Flatten())\n",
    "model.add(Dense(512, activation='relu'))\n",
    "model.add(Dense(512, activation='relu'))\n",
    "model.add(Dropout(0.3))\n",
    "model.add(Dense(4, activation='softmax'))"
   ]
  },
  {
   "cell_type": "code",
   "execution_count": 9,
   "id": "c937b803",
   "metadata": {
    "execution": {
     "iopub.execute_input": "2022-10-05T11:09:38.885394Z",
     "iopub.status.busy": "2022-10-05T11:09:38.885091Z",
     "iopub.status.idle": "2022-10-05T11:09:38.891916Z",
     "shell.execute_reply": "2022-10-05T11:09:38.890990Z"
    },
    "id": "xEKV13OrbGBk",
    "outputId": "09b44f36-22b2-4b0b-bb5b-12aa3d056306",
    "papermill": {
     "duration": 0.015243,
     "end_time": "2022-10-05T11:09:38.894729",
     "exception": false,
     "start_time": "2022-10-05T11:09:38.879486",
     "status": "completed"
    },
    "tags": []
   },
   "outputs": [
    {
     "name": "stdout",
     "output_type": "stream",
     "text": [
      "Model: \"sequential\"\n",
      "_________________________________________________________________\n",
      "Layer (type)                 Output Shape              Param #   \n",
      "=================================================================\n",
      "conv2d (Conv2D)              (None, 148, 148, 32)      896       \n",
      "_________________________________________________________________\n",
      "conv2d_1 (Conv2D)            (None, 146, 146, 64)      18496     \n",
      "_________________________________________________________________\n",
      "max_pooling2d (MaxPooling2D) (None, 73, 73, 64)        0         \n",
      "_________________________________________________________________\n",
      "dropout (Dropout)            (None, 73, 73, 64)        0         \n",
      "_________________________________________________________________\n",
      "conv2d_2 (Conv2D)            (None, 71, 71, 64)        36928     \n",
      "_________________________________________________________________\n",
      "conv2d_3 (Conv2D)            (None, 69, 69, 64)        36928     \n",
      "_________________________________________________________________\n",
      "dropout_1 (Dropout)          (None, 69, 69, 64)        0         \n",
      "_________________________________________________________________\n",
      "max_pooling2d_1 (MaxPooling2 (None, 34, 34, 64)        0         \n",
      "_________________________________________________________________\n",
      "dropout_2 (Dropout)          (None, 34, 34, 64)        0         \n",
      "_________________________________________________________________\n",
      "conv2d_4 (Conv2D)            (None, 32, 32, 128)       73856     \n",
      "_________________________________________________________________\n",
      "conv2d_5 (Conv2D)            (None, 30, 30, 128)       147584    \n",
      "_________________________________________________________________\n",
      "conv2d_6 (Conv2D)            (None, 28, 28, 128)       147584    \n",
      "_________________________________________________________________\n",
      "max_pooling2d_2 (MaxPooling2 (None, 14, 14, 128)       0         \n",
      "_________________________________________________________________\n",
      "dropout_3 (Dropout)          (None, 14, 14, 128)       0         \n",
      "_________________________________________________________________\n",
      "conv2d_7 (Conv2D)            (None, 12, 12, 128)       147584    \n",
      "_________________________________________________________________\n",
      "conv2d_8 (Conv2D)            (None, 10, 10, 256)       295168    \n",
      "_________________________________________________________________\n",
      "max_pooling2d_3 (MaxPooling2 (None, 5, 5, 256)         0         \n",
      "_________________________________________________________________\n",
      "dropout_4 (Dropout)          (None, 5, 5, 256)         0         \n",
      "_________________________________________________________________\n",
      "flatten (Flatten)            (None, 6400)              0         \n",
      "_________________________________________________________________\n",
      "dense (Dense)                (None, 512)               3277312   \n",
      "_________________________________________________________________\n",
      "dense_1 (Dense)              (None, 512)               262656    \n",
      "_________________________________________________________________\n",
      "dropout_5 (Dropout)          (None, 512)               0         \n",
      "_________________________________________________________________\n",
      "dense_2 (Dense)              (None, 4)                 2052      \n",
      "=================================================================\n",
      "Total params: 4,447,044\n",
      "Trainable params: 4,447,044\n",
      "Non-trainable params: 0\n",
      "_________________________________________________________________\n"
     ]
    }
   ],
   "source": [
    "model.summary()"
   ]
  },
  {
   "cell_type": "code",
   "execution_count": 10,
   "id": "90f3997d",
   "metadata": {
    "execution": {
     "iopub.execute_input": "2022-10-05T11:09:38.905945Z",
     "iopub.status.busy": "2022-10-05T11:09:38.905675Z",
     "iopub.status.idle": "2022-10-05T11:09:38.917289Z",
     "shell.execute_reply": "2022-10-05T11:09:38.916490Z"
    },
    "id": "Lmei0xxWbOT5",
    "papermill": {
     "duration": 0.01945,
     "end_time": "2022-10-05T11:09:38.919386",
     "exception": false,
     "start_time": "2022-10-05T11:09:38.899936",
     "status": "completed"
    },
    "tags": []
   },
   "outputs": [],
   "source": [
    "model.compile(loss='sparse_categorical_crossentropy', \n",
    "              optimizer='Adam',\n",
    "              metrics=['accuracy'])"
   ]
  },
  {
   "cell_type": "code",
   "execution_count": 11,
   "id": "62a32bc3",
   "metadata": {
    "execution": {
     "iopub.execute_input": "2022-10-05T11:09:38.929901Z",
     "iopub.status.busy": "2022-10-05T11:09:38.929142Z",
     "iopub.status.idle": "2022-10-05T11:09:39.219038Z",
     "shell.execute_reply": "2022-10-05T11:09:39.218085Z"
    },
    "id": "Aqe3t2vnbUQM",
    "papermill": {
     "duration": 0.297241,
     "end_time": "2022-10-05T11:09:39.221401",
     "exception": false,
     "start_time": "2022-10-05T11:09:38.924160",
     "status": "completed"
    },
    "tags": []
   },
   "outputs": [],
   "source": [
    "from tensorflow.keras.callbacks import EarlyStopping, ModelCheckpoint\n",
    "callbacks = EarlyStopping(monitor='val_loss', patience=5, verbose=1, mode='auto')\n",
    "# autosave best Model\n",
    "best_model_file = '/content/CNN_aug_best_weights.h5'\n",
    "best_model = ModelCheckpoint(best_model_file, monitor='val_acc', verbose = 1, save_best_only = True)"
   ]
  },
  {
   "cell_type": "code",
   "execution_count": 12,
   "id": "678a9ed2",
   "metadata": {
    "execution": {
     "iopub.execute_input": "2022-10-05T11:09:39.232313Z",
     "iopub.status.busy": "2022-10-05T11:09:39.231749Z",
     "iopub.status.idle": "2022-10-05T11:10:14.569399Z",
     "shell.execute_reply": "2022-10-05T11:10:14.568235Z"
    },
    "id": "9eBxxL85bjtt",
    "outputId": "354850ef-5b67-4963-8804-8e8b49e9f4c9",
    "papermill": {
     "duration": 35.345753,
     "end_time": "2022-10-05T11:10:14.572097",
     "exception": false,
     "start_time": "2022-10-05T11:09:39.226344",
     "status": "completed"
    },
    "tags": []
   },
   "outputs": [
    {
     "name": "stderr",
     "output_type": "stream",
     "text": [
      "2022-10-05 11:09:39.397198: I tensorflow/compiler/mlir/mlir_graph_optimization_pass.cc:185] None of the MLIR Optimization Passes are enabled (registered 2)\n"
     ]
    },
    {
     "name": "stdout",
     "output_type": "stream",
     "text": [
      "Epoch 1/27\n"
     ]
    },
    {
     "name": "stderr",
     "output_type": "stream",
     "text": [
      "2022-10-05 11:09:41.244175: I tensorflow/stream_executor/cuda/cuda_dnn.cc:369] Loaded cuDNN version 8005\n"
     ]
    },
    {
     "name": "stdout",
     "output_type": "stream",
     "text": [
      "24/24 [==============================] - 10s 72ms/step - loss: 3.1845 - accuracy: 0.5178 - val_loss: 0.9932 - val_accuracy: 0.4941\n",
      "Epoch 2/27\n",
      "24/24 [==============================] - 1s 41ms/step - loss: 0.7125 - accuracy: 0.5509 - val_loss: 0.8998 - val_accuracy: 0.4941\n",
      "Epoch 3/27\n",
      "24/24 [==============================] - 1s 45ms/step - loss: 0.7016 - accuracy: 0.5390 - val_loss: 0.8192 - val_accuracy: 0.4941\n",
      "Epoch 4/27\n",
      "24/24 [==============================] - 1s 40ms/step - loss: 0.7028 - accuracy: 0.5231 - val_loss: 0.7830 - val_accuracy: 0.4941\n",
      "Epoch 5/27\n",
      "24/24 [==============================] - 1s 41ms/step - loss: 0.6991 - accuracy: 0.5363 - val_loss: 0.7087 - val_accuracy: 0.4706\n",
      "Epoch 6/27\n",
      "24/24 [==============================] - 1s 39ms/step - loss: 0.6992 - accuracy: 0.5429 - val_loss: 0.7962 - val_accuracy: 0.4941\n",
      "Epoch 7/27\n",
      "24/24 [==============================] - 1s 39ms/step - loss: 0.7013 - accuracy: 0.5429 - val_loss: 0.7454 - val_accuracy: 0.4941\n",
      "Epoch 8/27\n",
      "24/24 [==============================] - 1s 39ms/step - loss: 0.6906 - accuracy: 0.5522 - val_loss: 0.7138 - val_accuracy: 0.4941\n",
      "Epoch 9/27\n",
      "24/24 [==============================] - 1s 39ms/step - loss: 0.6888 - accuracy: 0.5509 - val_loss: 0.7042 - val_accuracy: 0.4941\n",
      "Epoch 10/27\n",
      "24/24 [==============================] - 1s 39ms/step - loss: 0.6736 - accuracy: 0.5376 - val_loss: 0.7174 - val_accuracy: 0.6235\n",
      "Epoch 11/27\n",
      "24/24 [==============================] - 1s 39ms/step - loss: 0.6649 - accuracy: 0.5337 - val_loss: 0.6961 - val_accuracy: 0.6353\n",
      "Epoch 12/27\n",
      "24/24 [==============================] - 1s 39ms/step - loss: 0.6361 - accuracy: 0.6473 - val_loss: 0.6842 - val_accuracy: 0.6118\n",
      "Epoch 13/27\n",
      "24/24 [==============================] - 1s 39ms/step - loss: 0.6358 - accuracy: 0.6209 - val_loss: 0.6651 - val_accuracy: 0.6353\n",
      "Epoch 14/27\n",
      "24/24 [==============================] - 1s 39ms/step - loss: 0.6333 - accuracy: 0.6209 - val_loss: 0.6587 - val_accuracy: 0.6471\n",
      "Epoch 15/27\n",
      "24/24 [==============================] - 1s 40ms/step - loss: 0.6121 - accuracy: 0.6777 - val_loss: 0.6422 - val_accuracy: 0.6941\n",
      "Epoch 16/27\n",
      "24/24 [==============================] - 1s 39ms/step - loss: 0.6093 - accuracy: 0.6697 - val_loss: 0.6528 - val_accuracy: 0.6353\n",
      "Epoch 17/27\n",
      "24/24 [==============================] - 1s 39ms/step - loss: 0.5846 - accuracy: 0.7015 - val_loss: 0.6320 - val_accuracy: 0.6588\n",
      "Epoch 18/27\n",
      "24/24 [==============================] - 1s 39ms/step - loss: 0.5705 - accuracy: 0.7226 - val_loss: 0.5972 - val_accuracy: 0.7176\n",
      "Epoch 19/27\n",
      "24/24 [==============================] - 1s 41ms/step - loss: 0.5725 - accuracy: 0.7094 - val_loss: 0.5951 - val_accuracy: 0.6706\n",
      "Epoch 20/27\n",
      "24/24 [==============================] - 1s 41ms/step - loss: 0.5206 - accuracy: 0.7464 - val_loss: 0.6285 - val_accuracy: 0.6353\n",
      "Epoch 21/27\n",
      "24/24 [==============================] - 1s 39ms/step - loss: 0.5110 - accuracy: 0.7292 - val_loss: 0.5490 - val_accuracy: 0.6941\n",
      "Epoch 22/27\n",
      "24/24 [==============================] - 1s 39ms/step - loss: 0.4945 - accuracy: 0.7649 - val_loss: 0.5708 - val_accuracy: 0.7059\n",
      "Epoch 23/27\n",
      "24/24 [==============================] - 1s 39ms/step - loss: 0.4616 - accuracy: 0.7886 - val_loss: 0.6094 - val_accuracy: 0.6824\n",
      "Epoch 24/27\n",
      "24/24 [==============================] - 1s 39ms/step - loss: 0.4351 - accuracy: 0.7966 - val_loss: 0.5578 - val_accuracy: 0.7294\n",
      "Epoch 25/27\n",
      "24/24 [==============================] - 1s 39ms/step - loss: 0.4200 - accuracy: 0.8164 - val_loss: 0.5585 - val_accuracy: 0.6824\n",
      "Epoch 26/27\n",
      "24/24 [==============================] - 1s 41ms/step - loss: 0.3912 - accuracy: 0.8349 - val_loss: 0.6833 - val_accuracy: 0.6000\n",
      "Epoch 27/27\n",
      "24/24 [==============================] - 1s 40ms/step - loss: 0.4048 - accuracy: 0.8071 - val_loss: 0.6041 - val_accuracy: 0.7059\n"
     ]
    }
   ],
   "source": [
    "history=model.fit(X_train,y_train,epochs=27,validation_split=.1,callbacks=[best_model])"
   ]
  },
  {
   "cell_type": "code",
   "execution_count": 13,
   "id": "09f848a4",
   "metadata": {
    "execution": {
     "iopub.execute_input": "2022-10-05T11:10:14.618917Z",
     "iopub.status.busy": "2022-10-05T11:10:14.618598Z",
     "iopub.status.idle": "2022-10-05T11:10:14.877120Z",
     "shell.execute_reply": "2022-10-05T11:10:14.876095Z"
    },
    "id": "AlB9c--zenEt",
    "papermill": {
     "duration": 0.284326,
     "end_time": "2022-10-05T11:10:14.879584",
     "exception": false,
     "start_time": "2022-10-05T11:10:14.595258",
     "status": "completed"
    },
    "tags": []
   },
   "outputs": [
    {
     "data": {
      "image/png": "[encoded data removed]",
      "text/plain": [
       "<Figure size 1008x504 with 1 Axes>"
      ]
     },
     "metadata": {
      "needs_background": "light"
     },
     "output_type": "display_data"
    }
   ],
   "source": [
    "#model.save('LumpyDisease.h5')\n",
    "\n",
    "acc=history.history['accuracy']\n",
    "val_acc=history.history['val_accuracy']\n",
    "loss=history.history['loss']\n",
    "val_loss=history.history['val_loss']\n",
    "\n",
    "epochs=range(len(acc))\n",
    "\n",
    "fig = plt.figure(figsize=(14,7))\n",
    "plt.plot(epochs, acc, 'r', label=\"Training Accuracy\")\n",
    "plt.plot(epochs, val_acc, 'b', label=\"Validation Accuracy\")\n",
    "plt.xlabel('Epoch')\n",
    "plt.ylabel('Accuracy')\n",
    "plt.title('Training and validation accuracy')\n",
    "plt.legend(loc='lower right')\n",
    "plt.show()"
   ]
  },
  {
   "cell_type": "code",
   "execution_count": 14,
   "id": "97a8b55d",
   "metadata": {
    "execution": {
     "iopub.execute_input": "2022-10-05T11:10:14.928250Z",
     "iopub.status.busy": "2022-10-05T11:10:14.927355Z",
     "iopub.status.idle": "2022-10-05T11:10:15.174156Z",
     "shell.execute_reply": "2022-10-05T11:10:15.173266Z"
    },
    "id": "l3iYxVvce4Zu",
    "papermill": {
     "duration": 0.27319,
     "end_time": "2022-10-05T11:10:15.176348",
     "exception": false,
     "start_time": "2022-10-05T11:10:14.903158",
     "status": "completed"
    },
    "tags": []
   },
   "outputs": [
    {
     "data": {
      "text/plain": [
       "Text(0.5, 1.0, 'Training and validation loss')"
      ]
     },
     "execution_count": 14,
     "metadata": {},
     "output_type": "execute_result"
    },
    {
     "data": {
      "image/png": "[encoded data removed]",
      "text/plain": [
       "<Figure size 1008x504 with 1 Axes>"
      ]
     },
     "metadata": {
      "needs_background": "light"
     },
     "output_type": "display_data"
    }
   ],
   "source": [
    "fig2 = plt.figure(figsize=(14,7))\n",
    "plt.plot(epochs, loss, 'r', label=\"Training Loss\")\n",
    "plt.plot(epochs, val_loss, 'b', label=\"Validation Loss\")\n",
    "plt.legend(loc='upper right')\n",
    "plt.xlabel('Epoch')\n",
    "plt.ylabel('Loss')\n",
    "plt.title('Training and validation loss')"
   ]
  },
  {
   "cell_type": "code",
   "execution_count": 15,
   "id": "7c719385",
   "metadata": {
    "execution": {
     "iopub.execute_input": "2022-10-05T11:10:15.224025Z",
     "iopub.status.busy": "2022-10-05T11:10:15.223725Z",
     "iopub.status.idle": "2022-10-05T11:10:15.787129Z",
     "shell.execute_reply": "2022-10-05T11:10:15.786110Z"
    },
    "id": "NY4qYKpgfGB_",
    "papermill": {
     "duration": 0.589583,
     "end_time": "2022-10-05T11:10:15.789598",
     "exception": false,
     "start_time": "2022-10-05T11:10:15.200015",
     "status": "completed"
    },
    "tags": []
   },
   "outputs": [],
   "source": [
    "pred = model.predict(X_test)\n",
    "pred = np.argmax(pred,axis=1)"
   ]
  },
  {
   "cell_type": "code",
   "execution_count": 16,
   "id": "d381aa18",
   "metadata": {
    "execution": {
     "iopub.execute_input": "2022-10-05T11:10:15.838834Z",
     "iopub.status.busy": "2022-10-05T11:10:15.838446Z",
     "iopub.status.idle": "2022-10-05T11:10:15.845736Z",
     "shell.execute_reply": "2022-10-05T11:10:15.843703Z"
    },
    "id": "8P8CJBmlgUt9",
    "outputId": "047f0960-eb04-4d8a-df41-b657eaa32b6b",
    "papermill": {
     "duration": 0.034185,
     "end_time": "2022-10-05T11:10:15.847610",
     "exception": false,
     "start_time": "2022-10-05T11:10:15.813425",
     "status": "completed"
    },
    "tags": []
   },
   "outputs": [
    {
     "data": {
      "text/plain": [
       "(94,)"
      ]
     },
     "execution_count": 16,
     "metadata": {},
     "output_type": "execute_result"
    }
   ],
   "source": [
    "y_test.shape\n",
    "pred.shape"
   ]
  },
  {
   "cell_type": "code",
   "execution_count": 17,
   "id": "11aaab61",
   "metadata": {
    "execution": {
     "iopub.execute_input": "2022-10-05T11:10:15.894615Z",
     "iopub.status.busy": "2022-10-05T11:10:15.894335Z",
     "iopub.status.idle": "2022-10-05T11:10:15.899772Z",
     "shell.execute_reply": "2022-10-05T11:10:15.898674Z"
    },
    "id": "woXHEVfBgS79",
    "outputId": "53de6f4b-6b2c-4628-d41a-654ab0df4ae2",
    "papermill": {
     "duration": 0.033029,
     "end_time": "2022-10-05T11:10:15.903495",
     "exception": false,
     "start_time": "2022-10-05T11:10:15.870466",
     "status": "completed"
    },
    "tags": []
   },
   "outputs": [
    {
     "name": "stdout",
     "output_type": "stream",
     "text": [
      "Accuracy on testing dataset: 63.83%\n"
     ]
    }
   ],
   "source": [
    "accuracy = np.sum(pred==y_test)/np.size(pred)\n",
    "print(\"Accuracy on testing dataset: {:.2f}%\".format(accuracy*100))"
   ]
  }
 ],
 "metadata": {
  "kernelspec": {
   "display_name": "Python 3",
   "language": "python",
   "name": "python3"
  },
  "language_info": {
   "codemirror_mode": {
    "name": "ipython",
    "version": 3
   },
   "file_extension": ".py",
   "mimetype": "text/x-python",
   "name": "python",
   "nbconvert_exporter": "python",
   "pygments_lexer": "ipython3",
   "version": "3.7.12"
  },
  "papermill": {
   "default_parameters": {},
   "duration": 60.665576,
   "end_time": "2022-10-05T11:10:19.124307",
   "environment_variables": {},
   "exception": null,
   "input_path": "__notebook__.ipynb",
   "output_path": "__notebook__.ipynb",
   "parameters": {},
   "start_time": "2022-10-05T11:09:18.458731",
   "version": "2.3.4"
  }
 },
 "nbformat": 4,
 "nbformat_minor": 5
}
