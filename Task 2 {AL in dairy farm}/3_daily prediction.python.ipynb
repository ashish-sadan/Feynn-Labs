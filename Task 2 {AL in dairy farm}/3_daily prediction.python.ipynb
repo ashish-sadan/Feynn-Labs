{
 "cells": [
  {
   "cell_type": "code",
   "execution_count": null,
   "id": "f277d231",
   "metadata": {},
   "outputs": [],
   "source": [
    "import pandas as pd\n",
    "from sklearn import preprocessing\n",
    "from sklearn.model_selection import train_test_split, LeaveOneOut\n",
    "from sklearn.ensemble import RandomForestClassifier\n",
    "from sklearn.discriminant_analysis import LinearDiscriminantAnalysis\n",
    "from sklearn.neural_network import MLPClassifier\n",
    "from sklearn.metrics import confusion_matrix\n",
    "import matplotlib.pyplot as plt"
   ]
  },
  {
   "cell_type": "code",
   "execution_count": null,
   "id": "50f8b18b",
   "metadata": {},
   "outputs": [],
   "source": [
    "# Read in the data\n",
    "calved = pd.read_csv(\"C:/Users/Desktop/day.csv\")"
   ]
  },
  {
   "cell_type": "code",
   "execution_count": null,
   "id": "7b27feb1",
   "metadata": {},
   "outputs": [],
   "source": [
    "# Plot the data\n",
    "plt.figure()\n",
    "plt.subplot(321)\n",
    "plt.plot(calved['daysprior'], calved['mtotalmotion'], 'o')\n",
    "plt.subplot(322)\n",
    "plt.plot(calved['daysprior'], calved['mtotalsteps'], 'o')\n",
    "plt.subplot(323)\n",
    "plt.plot(calved['daysprior'], calved['mhoursstanding'], 'o')\n",
    "plt.subplot(324)\n",
    "plt.plot(calved['daysprior'], calved['mhourslying'], 'o')\n",
    "plt.subplot(325)\n",
    "plt.plot(calved['daysprior'], calved['mlyingbouts'], 'o')\n",
    "plt.subplot(326)\n",
    "plt.plot(calved['daysprior'], calved['mrumination'], 'o')"
   ]
  },
  {
   "cell_type": "code",
   "execution_count": null,
   "id": "863d6f15",
   "metadata": {},
   "outputs": [],
   "source": [
    "# Subset the data\n",
    "trial1 = calved[(calved['daysprior'].isin([-1,-2,-3,-4,-5,-6,-7,-8,-9,-10,-11,-12,-13,-14]))]"
   ]
  },
  {
   "cell_type": "code",
   "execution_count": null,
   "id": "a4ebe652",
   "metadata": {},
   "outputs": [],
   "source": [
    "# Create a new factor variable\n",
    "trial1['daysprior'] = trial1['daysprior'].apply(lambda x: 'day' + str(abs(x)))"
   ]
  },
  {
   "cell_type": "code",
   "execution_count": null,
   "id": "6fbc43e0",
   "metadata": {},
   "outputs": [],
   "source": [
    "# Split into training and testing data\n",
    "train, test = train_test_split(trial1, test_size=0.2, random_state=45)"
   ]
  },
  {
   "cell_type": "code",
   "execution_count": null,
   "id": "e0f97cfd",
   "metadata": {},
   "outputs": [],
   "source": [
    "# Create training and testing labels\n",
    "train_labels = train['daysprior']\n",
    "test_labels = test['daysprior']"
   ]
  },
  {
   "cell_type": "code",
   "execution_count": null,
   "id": "fbeb8026",
   "metadata": {},
   "outputs": [],
   "source": [
    "# Remove the labels from the training and testing data\n",
    "train = train.drop(['daysprior'], axis=1)\n",
    "test = test.drop(['daysprior'], axis=1)"
   ]
  },
  {
   "cell_type": "code",
   "execution_count": null,
   "id": "16700f3b",
   "metadata": {},
   "outputs": [],
   "source": [
    "# Scale the data\n",
    "scaler = preprocessing.StandardScaler().fit(train)\n",
    "train_scaled = scaler.transform(train)\n",
    "test_scaled = scaler.transform(test)"
   ]
  },
  {
   "cell_type": "code",
   "execution_count": null,
   "id": "c3e120fe",
   "metadata": {},
   "outputs": [],
   "source": [
    "# Random Forest\n",
    "rf = RandomForestClassifier(n_estimators=100, random_state=45)\n",
    "rf.fit(train_scaled, train_labels)\n",
    "rf_pred = rf.predict(test_scaled)\n",
    "rf_cm = confusion_matrix(test_labels, rf_pred)\n",
    "print(\"Random Forest confusion matrix:\")\n",
    "print(rf_cm)"
   ]
  },
  {
   "cell_type": "code",
   "execution_count": null,
   "id": "3c295eb4",
   "metadata": {},
   "outputs": [],
   "source": [
    "# Linear Discriminant Analysis\n",
    "lda = LinearDiscriminantAnalysis()\n",
    "lda.fit(train_scaled, train_labels)\n",
    "lda_pred = lda.predict(test_scaled)\n",
    "lda_cm = confusion_matrix(test_labels, lda_pred)\n",
    "print(\"Linear Discriminant Analysis confusion matrix:\")"
   ]
  },
  {
   "cell_type": "code",
   "execution_count": null,
   "id": "fb3211ed",
   "metadata": {},
   "outputs": [],
   "source": [
    "# Neural Network\n",
    "nn = MLPClassifier(hidden_layer_sizes=(8, 8), max_iter=1000, random_state=45)\n",
    "nn.fit(train_scaled, train_labels)\n",
    "nn_pred = nn.predict(test_scaled)\n",
    "nn_cm = confusion_matrix(test_labels, nn_pred)\n",
    "print(\"Neural Network confusion matrix:\")\n",
    "print(nn_cm)"
   ]
  },
  {
   "cell_type": "code",
   "execution_count": null,
   "id": "0e2c4475",
   "metadata": {},
   "outputs": [],
   "source": []
  },
  {
   "cell_type": "code",
   "execution_count": null,
   "id": "dc1616f1",
   "metadata": {},
   "outputs": [],
   "source": []
  },
  {
   "cell_type": "code",
   "execution_count": null,
   "id": "85d25352",
   "metadata": {},
   "outputs": [],
   "source": []
  },
  {
   "cell_type": "code",
   "execution_count": null,
   "id": "43d96146",
   "metadata": {},
   "outputs": [],
   "source": []
  },
  {
   "cell_type": "code",
   "execution_count": null,
   "id": "d10b83b5",
   "metadata": {},
   "outputs": [],
   "source": []
  },
  {
   "cell_type": "code",
   "execution_count": null,
   "id": "b622e6f5",
   "metadata": {},
   "outputs": [],
   "source": []
  },
  {
   "cell_type": "code",
   "execution_count": null,
   "id": "6fd7e6db",
   "metadata": {},
   "outputs": [],
   "source": []
  },
  {
   "cell_type": "code",
   "execution_count": null,
   "id": "e3a18998",
   "metadata": {},
   "outputs": [],
   "source": []
  },
  {
   "cell_type": "code",
   "execution_count": null,
   "id": "b37b4614",
   "metadata": {},
   "outputs": [],
   "source": []
  },
  {
   "cell_type": "code",
   "execution_count": null,
   "id": "a91179d3",
   "metadata": {},
   "outputs": [],
   "source": []
  },
  {
   "cell_type": "code",
   "execution_count": null,
   "id": "83884a22",
   "metadata": {},
   "outputs": [],
   "source": []
  },
  {
   "cell_type": "code",
   "execution_count": null,
   "id": "8330a345",
   "metadata": {},
   "outputs": [],
   "source": []
  },
  {
   "cell_type": "code",
   "execution_count": null,
   "id": "11ff35e4",
   "metadata": {},
   "outputs": [],
   "source": []
  },
  {
   "cell_type": "code",
   "execution_count": null,
   "id": "1cb82507",
   "metadata": {},
   "outputs": [],
   "source": []
  },
  {
   "cell_type": "code",
   "execution_count": null,
   "id": "9742ea9a",
   "metadata": {},
   "outputs": [],
   "source": []
  },
  {
   "cell_type": "code",
   "execution_count": null,
   "id": "fb1a5624",
   "metadata": {},
   "outputs": [],
   "source": []
  },
  {
   "cell_type": "code",
   "execution_count": null,
   "id": "e79cf31b",
   "metadata": {},
   "outputs": [],
   "source": []
  },
  {
   "cell_type": "code",
   "execution_count": null,
   "id": "c21a7862",
   "metadata": {},
   "outputs": [],
   "source": []
  },
  {
   "cell_type": "code",
   "execution_count": null,
   "id": "e47120c1",
   "metadata": {},
   "outputs": [],
   "source": []
  },
  {
   "cell_type": "code",
   "execution_count": null,
   "id": "942f0224",
   "metadata": {},
   "outputs": [],
   "source": []
  }
 ],
 "metadata": {
  "kernelspec": {
   "display_name": "Python 3 (ipykernel)",
   "language": "python",
   "name": "python3"
  },
  "language_info": {
   "codemirror_mode": {
    "name": "ipython",
    "version": 3
   },
   "file_extension": ".py",
   "mimetype": "text/x-python",
   "name": "python",
   "nbconvert_exporter": "python",
   "pygments_lexer": "ipython3",
   "version": "3.9.12"
  }
 },
 "nbformat": 4,
 "nbformat_minor": 5
}
